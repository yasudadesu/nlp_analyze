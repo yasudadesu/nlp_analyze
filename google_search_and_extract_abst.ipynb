{
 "cells": [
  {
   "cell_type": "code",
   "execution_count": 1,
   "metadata": {},
   "outputs": [],
   "source": [
    "import time\n",
    "import requests\n",
    "\n",
    "import Levenshtein\n",
    "from tqdm import tqdm\n",
    "from bs4 import BeautifulSoup\n",
    "from googlesearch import search\n",
    "\n",
    "\n",
    "def _google_search(query, limit=10):\n",
    "    return list(search(query, lang=\"en\", num=5, stop=3))\n",
    "\n",
    "def _extract_abstract(paper, true_title):\n",
    "    paper_soup = BeautifulSoup(paper.content, 'html5lib')\n",
    "    paper_title = paper_soup.find('h1', class_=\"title mathjax\").contents[1].replace('\\n', '')\n",
    "    if Levenshtein.distance(paper_title.lower(), true_title.lower()) > (len(paper_title) / 5):  # 論文名が違う場合、それは対象外とする\n",
    "        return None\n",
    "\n",
    "    paper_abst = paper_soup.find('blockquote', class_='abstract mathjax').contents[-1].replace('\\n', ' ')\n",
    "    return paper_abst\n",
    "\n",
    "def _to_txtfile(title, abst, out_txt_filepath):\n",
    "    if '/' in title:\n",
    "        title = title.replace('/', '-')\n",
    "    with open(f'{out_txt_filepath}/{title}.txt', 'w') as f:\n",
    "        f.write(abst)\n",
    "\n",
    "def google_search_and_extract_abst(title, out_txt_filepath):\n",
    "    result_urls = _google_search(title)\n",
    "    for result_url in result_urls:\n",
    "        if 'arxiv.org/abs/' not in result_url:\n",
    "            continue\n",
    "            \n",
    "        paper = requests.get(result_url)\n",
    "        abst = _extract_abstract(paper, title)\n",
    "        if abst:\n",
    "            _to_txtfile(title, abst, out_txt_filepath)\n",
    "            return 'success'\n",
    "    return 'failed'\n",
    "\n",
    "def fetch_abst_by_conference(in_txt_filepath, out_txt_filepath):\n",
    "    with open(in_txt_filepath, 'r') as f:\n",
    "        titles = f.read()\n",
    "        titles = titles.split('\\n')\n",
    "    \n",
    "    fetch_ok_list = []\n",
    "    \n",
    "    for title in tqdm(titles):\n",
    "        try:\n",
    "            result = google_search_and_extract_abst(title, out_txt_filepath)\n",
    "            time.sleep(10)  # 長い？\n",
    "            if result == 'success':\n",
    "                fetch_ok_list.append(title)\n",
    "        except Exception as e:\n",
    "            print(e)\n",
    "            return fetch_ok_list\n",
    "        \n",
    "    return fetch_ok_list"
   ]
  },
  {
   "cell_type": "code",
   "execution_count": 2,
   "metadata": {},
   "outputs": [],
   "source": [
    "conf_name = 'emnlp_2015'\n",
    "\n",
    "in_txt_filepath = f'./text/{conf_name}.txt'\n",
    "out_txt_filepath = f'./text/abst_text/{conf_name}'"
   ]
  },
  {
   "cell_type": "code",
   "execution_count": 3,
   "metadata": {},
   "outputs": [
    {
     "name": "stderr",
     "output_type": "stream",
     "text": [
      "100%|██████████| 331/331 [1:12:23<00:00, 13.12s/it]\n"
     ]
    }
   ],
   "source": [
    "fetch_ok_list = fetch_abst_by_conference(in_txt_filepath, out_txt_filepath)"
   ]
  },
  {
   "cell_type": "code",
   "execution_count": 10,
   "metadata": {},
   "outputs": [
    {
     "data": {
      "text/plain": [
       "38"
      ]
     },
     "execution_count": 10,
     "metadata": {},
     "output_type": "execute_result"
    }
   ],
   "source": [
    "len(fetch_ok_list)"
   ]
  },
  {
   "cell_type": "markdown",
   "metadata": {},
   "source": [
    "- acl_2017: 146"
   ]
  },
  {
   "cell_type": "code",
   "execution_count": null,
   "metadata": {},
   "outputs": [],
   "source": []
  }
 ],
 "metadata": {
  "kernelspec": {
   "display_name": "Python 3",
   "language": "python",
   "name": "python3"
  },
  "language_info": {
   "codemirror_mode": {
    "name": "ipython",
    "version": 3
   },
   "file_extension": ".py",
   "mimetype": "text/x-python",
   "name": "python",
   "nbconvert_exporter": "python",
   "pygments_lexer": "ipython3",
   "version": "3.6.1"
  }
 },
 "nbformat": 4,
 "nbformat_minor": 2
}
