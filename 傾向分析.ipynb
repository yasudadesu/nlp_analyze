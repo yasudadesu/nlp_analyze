{
 "cells": [
  {
   "cell_type": "markdown",
   "metadata": {},
   "source": [
    "## 各トップカンファの年次accepted paper url"
   ]
  },
  {
   "cell_type": "markdown",
   "metadata": {},
   "source": [
    "### ACL\n",
    "- [2011](http://mirror.aclweb.org/acl2011/accepted_papers.shtml.html)\n",
    "- [2012](http://mirror.aclweb.org/acl2012/program/sub00.asp.html)\n",
    "- [2013](http://www.acl2013.org/site/accepted-papers.html)\n",
    "- [2014](http://acl2014.org/Program.htm)\n",
    "- [2015](http://acl2015.org/accepted_papers.html)\n",
    "- [2016](http://mirror.aclweb.org/acl2016/indexa779.html?article_id=68)\n",
    "- [2017](https://acl2017.wordpress.com/2017/04/05/accepted-papers-and-demonstrations/)\n",
    "- [2018](http://acl2018.org/programme/papers/)"
   ]
  },
  {
   "cell_type": "markdown",
   "metadata": {},
   "source": [
    "### EMNLP\n",
    "- [2011](http://conferences.inf.ed.ac.uk/emnlp2011/papers.html)\n",
    "- [2012](http://emnlp-conll2012.unige.ch/papers.html)\n",
    "- [2013](http://mirror.aclweb.org/emnlp2013/papers.html)\n",
    "- [2014](http://emnlp2014.org/papers.html)\n",
    "- [2015](http://www.emnlp2015.org/accepted-papers.html)\n",
    "- [2016](https://www.aclweb.org/mirror/emnlp2016/accepted-papers.html)\n",
    "- [2017](http://emnlp2017.net/accepted-papers.html)\n",
    "- 2018はまだ"
   ]
  },
  {
   "cell_type": "markdown",
   "metadata": {},
   "source": [
    "### NAACL\n",
    "- 2012 サイトアクセス拒否\n",
    "- [2013](http://naacl2013.naacl.org/PapersAccepted.aspx)\n",
    "- [2014]\n",
    "- [2015](http://naacl.org/naacl-hlt-2015/papers.html)\n",
    "- [2016](http://naacl.org/naacl-hlt-2016/accepted_papers.html)\n",
    "- [2017]\n",
    "- [2018](https://naacl2018.wordpress.com/2018/03/02/list-of-accepted-papers/)"
   ]
  },
  {
   "cell_type": "code",
   "execution_count": 1,
   "metadata": {},
   "outputs": [],
   "source": [
    "# import nltk\n",
    "# nltk.download()\n",
    "# !mkdir texts images"
   ]
  },
  {
   "cell_type": "code",
   "execution_count": 1,
   "metadata": {},
   "outputs": [],
   "source": [
    "import pandas as pd\n",
    "import matplotlib.pyplot as plt\n",
    "import seaborn as sns\n",
    "\n",
    "from util import text_preprocess"
   ]
  },
  {
   "cell_type": "code",
   "execution_count": 2,
   "metadata": {},
   "outputs": [],
   "source": [
    "n_filter = 100\n",
    "text_dir_path = './text'"
   ]
  },
  {
   "cell_type": "code",
   "execution_count": 3,
   "metadata": {},
   "outputs": [],
   "source": [
    "def build_conf_dict(prefix, list_year):\n",
    "    dic = {}\n",
    "    for year in years:\n",
    "        dic.update({year: {\n",
    "                   'sentences': open(f'./{text_dir_path}/{prefix}_{year}.txt').read().replace('\\n', ''),\n",
    "                   'n_papers': len(list(filter(lambda x: x, map(lambda x: x.replace('\\n', ''), \n",
    "                                                                open(f'./{text_dir_path}/{prefix}_{year}.txt').readlines()))))\n",
    "        }})\n",
    "        \n",
    "    return dic"
   ]
  },
  {
   "cell_type": "markdown",
   "metadata": {},
   "source": [
    "## ACL"
   ]
  },
  {
   "cell_type": "code",
   "execution_count": 4,
   "metadata": {},
   "outputs": [],
   "source": [
    "prefix = 'acl'\n",
    "years = list(range(2011, 2019))"
   ]
  },
  {
   "cell_type": "code",
   "execution_count": 5,
   "metadata": {},
   "outputs": [],
   "source": [
    "acl = build_conf_dict(prefix, years)"
   ]
  },
  {
   "cell_type": "code",
   "execution_count": 6,
   "metadata": {},
   "outputs": [],
   "source": [
    "acl_word_df = pd.DataFrame()\n",
    "\n",
    "for year in acl.keys():\n",
    "    common_by_year = pd.DataFrame(text_preprocess(acl[year]['sentences']).most_common(n_filter), columns = [f'{year}_w', f'{year}_r'])\n",
    "    common_by_year[f'{year}_r'] = common_by_year[f'{year}_r'].apply(lambda x: round(x / acl[year]['n_papers'], 3))\n",
    "    acl_word_df = pd.concat([acl_word_df, common_by_year], axis=1)"
   ]
  },
  {
   "cell_type": "code",
   "execution_count": 7,
   "metadata": {},
   "outputs": [],
   "source": [
    "# for year in acl.keys():\n",
    "#     wordcloud = WordCloud(max_font_size=40).generate(acl[year]['sentences'])\n",
    "#     wordcloud.to_file(f'./images/acl_{year}_maxfont_40.png')"
   ]
  },
  {
   "cell_type": "markdown",
   "metadata": {},
   "source": [
    "## 差分検出"
   ]
  },
  {
   "cell_type": "code",
   "execution_count": 8,
   "metadata": {},
   "outputs": [],
   "source": [
    "dic ={}"
   ]
  },
  {
   "cell_type": "code",
   "execution_count": 9,
   "metadata": {},
   "outputs": [],
   "source": [
    "# def fuga(dic1, dic2):\n",
    "#     diff_dict = {}\n",
    "#     for key1, value1 in dic1.items():\n",
    "#         if key1 in dic2.keys():\n",
    "#             diff_val = value1 - dic2[key1]\n",
    "#             if diff_val > 0:\n",
    "#                 diff_dict.update({key1: diff_val})\n",
    "#         else:\n",
    "#             diff_dict.update({key1: value1})\n",
    "            \n",
    "#     return diff_dict\n",
    "\n",
    "# def hoge(df):\n",
    "#     new_df = df.iloc[:, [-2, -1]]\n",
    "#     old_df = df.iloc[:, [0, 1]]\n",
    "    \n",
    "#     new_values = {value[0]: value[1] for value in new_df.values}\n",
    "#     old_values = {value[0]: value[1] for value in old_df.values}\n",
    "#     diff_dict = {}\n",
    "#     diff_dict.update(fuga(new_values, old_values))\n",
    "#     diff_dict.update({key: -value for key, value in fuga(old_values, new_values).items()})\n",
    "                \n",
    "#     return diff_dict"
   ]
  },
  {
   "cell_type": "code",
   "execution_count": 10,
   "metadata": {},
   "outputs": [],
   "source": [
    "# pd.DataFrame(sorted(hoge(acl_word_df).items(), key=lambda x: -x[1]), columns=['word', 'diff_rate'])"
   ]
  },
  {
   "cell_type": "code",
   "execution_count": null,
   "metadata": {},
   "outputs": [],
   "source": []
  },
  {
   "cell_type": "markdown",
   "metadata": {},
   "source": [
    "## EMNLP"
   ]
  },
  {
   "cell_type": "code",
   "execution_count": 11,
   "metadata": {},
   "outputs": [],
   "source": [
    "prefix = 'emnlp'\n",
    "years = list(range(2011, 2018))"
   ]
  },
  {
   "cell_type": "code",
   "execution_count": 12,
   "metadata": {},
   "outputs": [],
   "source": [
    "emnlp = build_conf_dict(prefix, years)"
   ]
  },
  {
   "cell_type": "code",
   "execution_count": 13,
   "metadata": {},
   "outputs": [],
   "source": [
    "emnlp_word_df = pd.DataFrame()\n",
    "\n",
    "for year in emnlp.keys():\n",
    "    common_by_year = pd.DataFrame(text_preprocess(emnlp[year]['sentences']).most_common(n_filter), columns = [f'{year}_w', f'{year}_r'])\n",
    "    common_by_year[f'{year}_r'] = common_by_year[f'{year}_r'].apply(lambda x: round(x / emnlp[year]['n_papers'], 3))\n",
    "    emnlp_word_df = pd.concat([emnlp_word_df, common_by_year], axis=1)"
   ]
  },
  {
   "cell_type": "code",
   "execution_count": null,
   "metadata": {},
   "outputs": [],
   "source": []
  },
  {
   "cell_type": "code",
   "execution_count": null,
   "metadata": {},
   "outputs": [],
   "source": []
  },
  {
   "cell_type": "markdown",
   "metadata": {},
   "source": [
    "## NAACL"
   ]
  },
  {
   "cell_type": "code",
   "execution_count": 14,
   "metadata": {},
   "outputs": [],
   "source": [
    "prefix = 'naacl'\n",
    "years = [2013, 2015, 2016, 2018]"
   ]
  },
  {
   "cell_type": "code",
   "execution_count": 15,
   "metadata": {},
   "outputs": [],
   "source": [
    "naacl = acl = build_conf_dict(prefix, years)"
   ]
  },
  {
   "cell_type": "code",
   "execution_count": 16,
   "metadata": {},
   "outputs": [],
   "source": [
    "naacl_word_df = pd.DataFrame()\n",
    "\n",
    "for year in naacl.keys():\n",
    "    common_by_year = pd.DataFrame(text_preprocess(naacl[year]['sentences']).most_common(n_filter), columns = [f'{year}_w', f'{year}_r'])\n",
    "    common_by_year[f'{year}_r'] = common_by_year[f'{year}_r'].apply(lambda x: round(x / naacl[year]['n_papers'], 3))\n",
    "    naacl_word_df = pd.concat([naacl_word_df, common_by_year], axis=1)"
   ]
  },
  {
   "cell_type": "code",
   "execution_count": null,
   "metadata": {},
   "outputs": [],
   "source": []
  },
  {
   "cell_type": "code",
   "execution_count": 17,
   "metadata": {},
   "outputs": [],
   "source": [
    "import matplotlib.pyplot as plt\n",
    "\n",
    "years_dict = {\n",
    "    'acl': list(range(2011, 2019)),\n",
    "    'emnlp': list(range(2011, 2018)),\n",
    "    'naacl': [2013, 2015, 2016, 2018],\n",
    "}"
   ]
  },
  {
   "cell_type": "code",
   "execution_count": 18,
   "metadata": {},
   "outputs": [],
   "source": [
    "def _create_plot(df, word, prefix):\n",
    "    word_rate_list = []\n",
    "    years = years_dict[prefix]\n",
    "    for year in years:\n",
    "        word_rate = df[df[f'{year}_w'] == word][f'{year}_r'].reset_index(drop=True)\n",
    "        if word_rate.shape[0] != 0:\n",
    "            word_rate_list.append(word_rate[0])\n",
    "        else:\n",
    "            word_rate_list.append(0)\n",
    "    return word_rate_list\n",
    "\n",
    "def word_plot(word):\n",
    "    acl_rate_list = _create_plot(acl_word_df, word, 'acl')\n",
    "    emnlp_rate_list = _create_plot(emnlp_word_df, word, 'emnlp')\n",
    "    naacl_rate_list = _create_plot(naacl_word_df, word, 'naacl')\n",
    "    \n",
    "    plt.plot(years_dict['acl'], acl_rate_list, label='acl')\n",
    "    plt.plot(years_dict['emnlp'], emnlp_rate_list, label='emnlp')\n",
    "    plt.plot(years_dict['naacl'], naacl_rate_list, label='naacl')\n",
    "    plt.yticks(list(map(lambda x: x/50, range(11))))\n",
    "    plt.xlabel('years')\n",
    "    plt.ylabel('word rate')\n",
    "    plt.legend()\n",
    "    plt.title(f'{word}')\n",
    "    plt.show()"
   ]
  },
  {
   "cell_type": "code",
   "execution_count": 29,
   "metadata": {},
   "outputs": [
    {
     "data": {
      "image/png": "[encoded data removed]",
      "text/plain": [
       "<matplotlib.figure.Figure at 0x11068ca58>"
      ]
     },
     "metadata": {},
     "output_type": "display_data"
    }
   ],
   "source": [
    "word_plot('embedding')"
   ]
  },
  {
   "cell_type": "code",
   "execution_count": 30,
   "metadata": {},
   "outputs": [
    {
     "data": {
      "image/png": "[encoded data removed]",
      "text/plain": [
       "<matplotlib.figure.Figure at 0x119b9c7f0>"
      ]
     },
     "metadata": {},
     "output_type": "display_data"
    }
   ],
   "source": [
    "word_plot('evaluation')"
   ]
  },
  {
   "cell_type": "code",
   "execution_count": 20,
   "metadata": {},
   "outputs": [],
   "source": [
    "tmp = pd.concat([acl_word_df.iloc[[0, 1]], emnlp_word_df.iloc[[0, 1]], naacl_word_df.iloc[[0, 1]]]).iloc[[0, 2, 4]]"
   ]
  },
  {
   "cell_type": "code",
   "execution_count": 21,
   "metadata": {},
   "outputs": [],
   "source": [
    "tmp.index = ['acl', 'emnlp', 'naacl']"
   ]
  },
  {
   "cell_type": "code",
   "execution_count": 22,
   "metadata": {},
   "outputs": [],
   "source": [
    "tmp = tmp[['2011_w', '2011_r', '2012_w', '2012_r', '2013_w', '2013_r', '2014_w', '2014_r', '2015_w', '2015_r', '2016_w', '2016_r', '2017_w', '2017_r', '2018_w', '2018_r']]"
   ]
  },
  {
   "cell_type": "code",
   "execution_count": 23,
   "metadata": {},
   "outputs": [],
   "source": [
    "lst = [i*2+1 for i in range(len(years_dict['acl']))]"
   ]
  },
  {
   "cell_type": "code",
   "execution_count": 24,
   "metadata": {},
   "outputs": [
    {
     "data": {
      "text/plain": [
       "2011_r    0.091\n",
       "2012_r    0.095\n",
       "2013_r    0.115\n",
       "2014_r    0.088\n",
       "2015_r    0.113\n",
       "2016_r    0.106\n",
       "2017_r    0.194\n",
       "2018_r    0.176\n",
       "Name: acl, dtype: object"
      ]
     },
     "execution_count": 24,
     "metadata": {},
     "output_type": "execute_result"
    }
   ],
   "source": [
    "tmp.loc['acl'][lst]"
   ]
  },
  {
   "cell_type": "code",
   "execution_count": 25,
   "metadata": {},
   "outputs": [
    {
     "data": {
      "text/html": [
       "<div>\n",
       "<style scoped>\n",
       "    .dataframe tbody tr th:only-of-type {\n",
       "        vertical-align: middle;\n",
       "    }\n",
       "\n",
       "    .dataframe tbody tr th {\n",
       "        vertical-align: top;\n",
       "    }\n",
       "\n",
       "    .dataframe thead th {\n",
       "        text-align: right;\n",
       "    }\n",
       "</style>\n",
       "<table border=\"1\" class=\"dataframe\">\n",
       "  <thead>\n",
       "    <tr style=\"text-align: right;\">\n",
       "      <th></th>\n",
       "      <th>2011_w</th>\n",
       "      <th>2011_r</th>\n",
       "      <th>2012_w</th>\n",
       "      <th>2012_r</th>\n",
       "      <th>2013_w</th>\n",
       "      <th>2013_r</th>\n",
       "      <th>2014_w</th>\n",
       "      <th>2014_r</th>\n",
       "      <th>2015_w</th>\n",
       "      <th>2015_r</th>\n",
       "      <th>2016_w</th>\n",
       "      <th>2016_r</th>\n",
       "      <th>2017_w</th>\n",
       "      <th>2017_r</th>\n",
       "      <th>2018_w</th>\n",
       "      <th>2018_r</th>\n",
       "    </tr>\n",
       "  </thead>\n",
       "  <tbody>\n",
       "    <tr>\n",
       "      <th>acl</th>\n",
       "      <td>translation</td>\n",
       "      <td>0.091</td>\n",
       "      <td>translation</td>\n",
       "      <td>0.095</td>\n",
       "      <td>machine</td>\n",
       "      <td>0.115</td>\n",
       "      <td>word</td>\n",
       "      <td>0.088</td>\n",
       "      <td>word</td>\n",
       "      <td>0.113</td>\n",
       "      <td>neural</td>\n",
       "      <td>0.106</td>\n",
       "      <td>neural</td>\n",
       "      <td>0.194</td>\n",
       "      <td>neural</td>\n",
       "      <td>0.176</td>\n",
       "    </tr>\n",
       "    <tr>\n",
       "      <th>emnlp</th>\n",
       "      <td>machine</td>\n",
       "      <td>0.094</td>\n",
       "      <td>language</td>\n",
       "      <td>0.072</td>\n",
       "      <td>machine</td>\n",
       "      <td>0.083</td>\n",
       "      <td>word</td>\n",
       "      <td>0.103</td>\n",
       "      <td>neural</td>\n",
       "      <td>0.106</td>\n",
       "      <td>neural</td>\n",
       "      <td>0.207</td>\n",
       "      <td>neural</td>\n",
       "      <td>0.169</td>\n",
       "      <td>NaN</td>\n",
       "      <td>NaN</td>\n",
       "    </tr>\n",
       "    <tr>\n",
       "      <th>naacl</th>\n",
       "      <td>NaN</td>\n",
       "      <td>NaN</td>\n",
       "      <td>NaN</td>\n",
       "      <td>NaN</td>\n",
       "      <td>translation</td>\n",
       "      <td>0.128</td>\n",
       "      <td>NaN</td>\n",
       "      <td>NaN</td>\n",
       "      <td>word</td>\n",
       "      <td>0.122</td>\n",
       "      <td>neural</td>\n",
       "      <td>0.199</td>\n",
       "      <td>NaN</td>\n",
       "      <td>NaN</td>\n",
       "      <td>neural</td>\n",
       "      <td>0.193</td>\n",
       "    </tr>\n",
       "  </tbody>\n",
       "</table>\n",
       "</div>"
      ],
      "text/plain": [
       "            2011_w  2011_r       2012_w  2012_r       2013_w  2013_r 2014_w  \\\n",
       "acl    translation   0.091  translation   0.095      machine   0.115   word   \n",
       "emnlp      machine   0.094     language   0.072      machine   0.083   word   \n",
       "naacl          NaN     NaN          NaN     NaN  translation   0.128    NaN   \n",
       "\n",
       "       2014_r  2015_w  2015_r  2016_w  2016_r  2017_w  2017_r  2018_w  2018_r  \n",
       "acl     0.088    word   0.113  neural   0.106  neural   0.194  neural   0.176  \n",
       "emnlp   0.103  neural   0.106  neural   0.207  neural   0.169     NaN     NaN  \n",
       "naacl     NaN    word   0.122  neural   0.199     NaN     NaN  neural   0.193  "
      ]
     },
     "execution_count": 25,
     "metadata": {},
     "output_type": "execute_result"
    }
   ],
   "source": [
    "tmp"
   ]
  },
  {
   "cell_type": "code",
   "execution_count": 26,
   "metadata": {},
   "outputs": [
    {
     "data": {
      "image/png": "[encoded data removed]",
      "text/plain": [
       "<matplotlib.figure.Figure at 0x119805fd0>"
      ]
     },
     "metadata": {},
     "output_type": "display_data"
    }
   ],
   "source": [
    "acl_lst = [i*2+1 for i in range(len(years_dict['acl']))]\n",
    "emnlp_lst = [i*2+1 for i in range(len(years_dict['emnlp']))]\n",
    "naacl_lst = [5, 9, 11, 15]\n",
    "\n",
    "plt.plot(years_dict['acl'], tmp.loc['acl'][acl_lst].values , label='acl')\n",
    "plt.plot(years_dict['emnlp'], tmp.loc['emnlp'][emnlp_lst].values, label='emnlp')\n",
    "plt.plot(years_dict['naacl'], tmp.loc['naacl'][naacl_lst].values, label='naacl')\n",
    "plt.yticks(list(map(lambda x: x/50, range(11))))\n",
    "plt.xlabel('years')\n",
    "plt.ylabel('word rate')\n",
    "plt.legend()\n",
    "# plt.title()\n",
    "plt.show()"
   ]
  },
  {
   "cell_type": "code",
   "execution_count": 65,
   "metadata": {},
   "outputs": [
    {
     "data": {
      "text/plain": [
       "[2013, 2015, 2016, 2018]"
      ]
     },
     "execution_count": 65,
     "metadata": {},
     "output_type": "execute_result"
    }
   ],
   "source": [
    "years_dict['naacl']"
   ]
  },
  {
   "cell_type": "code",
   "execution_count": 64,
   "metadata": {},
   "outputs": [
    {
     "data": {
      "text/plain": [
       "array([nan, nan, 0.128, nan], dtype=object)"
      ]
     },
     "execution_count": 64,
     "metadata": {},
     "output_type": "execute_result"
    }
   ],
   "source": [
    "tmp.loc['naacl'][naacl_lst].values"
   ]
  },
  {
   "cell_type": "code",
   "execution_count": 63,
   "metadata": {},
   "outputs": [
    {
     "data": {
      "image/png": "[encoded data removed]",
      "text/plain": [
       "<matplotlib.figure.Figure at 0x113106f98>"
      ]
     },
     "metadata": {},
     "output_type": "display_data"
    }
   ],
   "source": [
    "plt.plot(years_dict['naacl'], tmp.loc['naacl'][naacl_lst].values, label='naacl')\n",
    "# plt.title(f'{word}')\n",
    "plt.show()"
   ]
  },
  {
   "cell_type": "code",
   "execution_count": null,
   "metadata": {},
   "outputs": [],
   "source": []
  }
 ],
 "metadata": {
  "kernelspec": {
   "display_name": "Python 3",
   "language": "python",
   "name": "python3"
  },
  "language_info": {
   "codemirror_mode": {
    "name": "ipython",
    "version": 3
   },
   "file_extension": ".py",
   "mimetype": "text/x-python",
   "name": "python",
   "nbconvert_exporter": "python",
   "pygments_lexer": "ipython3",
   "version": "3.6.1"
  }
 },
 "nbformat": 4,
 "nbformat_minor": 2
}
